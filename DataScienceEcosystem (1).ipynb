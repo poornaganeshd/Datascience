{
 "cells": [
  {
   "cell_type": "markdown",
   "id": "600953ee-2a8f-457f-a5b6-1aa047af2ee3",
   "metadata": {},
   "source": [
    "# Data Science Tools and Ecosystem"
   ]
  },
  {
   "cell_type": "markdown",
   "id": "737d23b7-f958-4fc3-ad97-383a61a9f684",
   "metadata": {},
   "source": [
    "## In this notebook, Data Science Tools and Ecosystem are summarized."
   ]
  },
  {
   "cell_type": "markdown",
   "id": "c5f7c7c6-01d6-492f-a547-2f204972dec8",
   "metadata": {},
   "source": [
    "## Some of the popular languages that Data Scientists use are:\n",
    "1. python\n",
    "2. R\n",
    "3. java\n",
    "4. c++\n",
    "5. mysql"
   ]
  },
  {
   "cell_type": "markdown",
   "id": "8e8eae3d-0e6e-4e33-a120-8b010d44e032",
   "metadata": {},
   "source": [
    "## Some of the commonly used libraries used by Data Scientists include:\n",
    "1. matplotlib\n",
    "2. pandas\n",
    "3. Scikit-learn\n",
    "4. Numpy\n",
    "5. Scipy"
   ]
  },
  {
   "cell_type": "markdown",
   "id": "524dc72e-37b7-4e0c-9745-60d6ae287357",
   "metadata": {},
   "source": [
    "|Data Science Tools |\n",
    "---------------------\n",
    "|Jupyter Notebooks  |\n",
    "|RStudio            |\n",
    "|Visual Studio Code |\n",
    "|Spyder             |\n",
    "|Apache Zeppelin    |\n"
   ]
  },
  {
   "cell_type": "markdown",
   "id": "7b603683-5ef1-4d3a-8c17-55f249a1da30",
   "metadata": {},
   "source": [
    "### "
   ]
  },
  {
   "cell_type": "markdown",
   "id": "08fd67d1-145f-4d6c-aca0-d5d84887ef19",
   "metadata": {},
   "source": [
    "### Below are a few examples of evaluating arithmetic expressions in Python.\n",
    "\n",
    "\r"
   ]
  },
  {
   "cell_type": "code",
   "execution_count": 9,
   "id": "4467b7b6-cffe-4248-b147-1fbddd6f3d3b",
   "metadata": {},
   "outputs": [
    {
     "data": {
      "text/plain": [
       "17"
      ]
     },
     "execution_count": 9,
     "metadata": {},
     "output_type": "execute_result"
    }
   ],
   "source": [
    "# This a simple arithmetic expression to mutiply then add integers.\n",
    "(3*4)+5"
   ]
  },
  {
   "cell_type": "code",
   "execution_count": 22,
   "id": "e8bfe8cd-f4de-4dff-8ac7-f4efb55a549f",
   "metadata": {},
   "outputs": [
    {
     "name": "stdout",
     "output_type": "stream",
     "text": [
      "3.3333333333333335\n"
     ]
    }
   ],
   "source": [
    "# This will convert 200 minutes to hours by diving by 60\n",
    "hours = 200/60\n",
    "print(hours)"
   ]
  },
  {
   "cell_type": "markdown",
   "id": "84fecc58-1215-47e3-9f28-1b2a15ab4834",
   "metadata": {},
   "source": [
    "**Objectives:**\r\n",
    "\r\n",
    "- List popular languages for Data Science, including Python and R\r\n",
    "- Explore basic Python syntax and data structures\r\n",
    "- Introduce Jupyter Notebook and its features\r\n",
    "- Demonstrate how to write and execute code in Jupyter cells\r\n",
    "- Provide examples of Markdown formatting in Jupyter Notebook\r\n"
   ]
  },
  {
   "cell_type": "markdown",
   "id": "c6243c33-ee95-477e-ace6-0b4caca508a6",
   "metadata": {},
   "source": [
    "## Author:\n",
    "   ***-poornaganesh dasariraju***"
   ]
  }
 ],
 "metadata": {
  "kernelspec": {
   "display_name": "Python 3 (ipykernel)",
   "language": "python",
   "name": "python3"
  },
  "language_info": {
   "codemirror_mode": {
    "name": "ipython",
    "version": 3
   },
   "file_extension": ".py",
   "mimetype": "text/x-python",
   "name": "python",
   "nbconvert_exporter": "python",
   "pygments_lexer": "ipython3",
   "version": "3.11.7"
  }
 },
 "nbformat": 4,
 "nbformat_minor": 5
}
